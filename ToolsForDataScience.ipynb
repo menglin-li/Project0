{
 "cells": [
  {
   "cell_type": "markdown",
   "id": "2cfa823f-79d7-4998-b074-61798c70829e",
   "metadata": {
    "tags": []
   },
   "source": [
    "<h1>My Jupyter Notebook on IBM Watson Studio</h1>"
   ]
  },
  {
   "cell_type": "markdown",
   "id": "a3c6364f-7b88-42ba-84c6-b3c0190cd4bc",
   "metadata": {},
   "source": [
    "**Menglin Li**"
   ]
  },
  {
   "cell_type": "markdown",
   "id": "7dc9d55e-2071-45a4-a25e-2b08a0c249c3",
   "metadata": {},
   "source": [
    "100% Human"
   ]
  },
  {
   "cell_type": "markdown",
   "id": "ab0bb15f-e3a8-456b-a92e-d37d40b764e9",
   "metadata": {},
   "source": [
    "*I am interested in data science because I love to gain insights from data*"
   ]
  },
  {
   "cell_type": "markdown",
   "id": "62e46523-5d4e-4c7e-9e97-15b71eda0eac",
   "metadata": {},
   "source": [
    "<h3>The following code tests some simple formula</h3>"
   ]
  },
  {
   "cell_type": "code",
   "execution_count": 2,
   "id": "6bd762b3-3eae-4be5-bb0c-875ba3b20ec4",
   "metadata": {},
   "outputs": [
    {
     "data": {
      "text/plain": [
       "3"
      ]
     },
     "execution_count": 2,
     "metadata": {},
     "output_type": "execute_result"
    }
   ],
   "source": [
    "def add_action(n1, n2):\n",
    "    return n1+n2\n",
    "\n",
    "add_action(1,2)"
   ]
  },
  {
   "cell_type": "markdown",
   "id": "a34e7d9d-ff3a-4ec8-beb9-540ad441d528",
   "metadata": {},
   "source": [
    "> This is quote\n",
    "> - 1\n",
    "> - 2\n",
    "This is the \"[MarkDown Guide](https://www.markdownguide.org)*.\n",
    "See the section on ['code'](#code)\n",
    "\n",
    "<ol>\n",
    "    <li>first</li>\n",
    "    <li>second</li>\n",
    "</ol>"
   ]
  },
  {
   "cell_type": "code",
   "execution_count": null,
   "id": "50925a0b-fc31-4642-8597-f726f87027bb",
   "metadata": {},
   "outputs": [],
   "source": []
  }
 ],
 "metadata": {
  "kernelspec": {
   "display_name": "Python",
   "language": "python",
   "name": "conda-env-python-py"
  },
  "language_info": {
   "codemirror_mode": {
    "name": "ipython",
    "version": 3
   },
   "file_extension": ".py",
   "mimetype": "text/x-python",
   "name": "python",
   "nbconvert_exporter": "python",
   "pygments_lexer": "ipython3",
   "version": "3.7.12"
  }
 },
 "nbformat": 4,
 "nbformat_minor": 5
}
